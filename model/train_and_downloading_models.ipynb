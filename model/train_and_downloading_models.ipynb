{
  "nbformat": 4,
  "nbformat_minor": 0,
  "metadata": {
    "colab": {
      "provenance": []
    },
    "kernelspec": {
      "name": "python3",
      "display_name": "Python 3"
    },
    "language_info": {
      "name": "python"
    }
  },
  "cells": [
    {
      "cell_type": "code",
      "execution_count": null,
      "metadata": {
        "id": "AB_cUhnKPhr8"
      },
      "outputs": [],
      "source": [
        "import numpy as np\n",
        "import pandas as pd\n",
        "from sklearn.model_selection import train_test_split\n",
        "from sklearn.tree import DecisionTreeRegressor\n",
        "from sklearn.ensemble import RandomForestRegressor\n",
        "from xgboost import XGBRegressor"
      ]
    },
    {
      "cell_type": "code",
      "source": [
        "df = pd.read_csv('selected_features_dataset.csv')\n",
        "\n",
        "df.info()"
      ],
      "metadata": {
        "id": "YYg6M78VS2L5"
      },
      "execution_count": null,
      "outputs": []
    },
    {
      "cell_type": "code",
      "source": [
        "X = df.drop(columns=['G3'])\n",
        "X.head()"
      ],
      "metadata": {
        "id": "UIIRNyCPYHhW"
      },
      "execution_count": null,
      "outputs": []
    },
    {
      "cell_type": "code",
      "source": [
        "y = df['G3']\n",
        "y.head()"
      ],
      "metadata": {
        "id": "jCYzNhv7YXpE"
      },
      "execution_count": null,
      "outputs": []
    },
    {
      "cell_type": "code",
      "source": [
        "X_train, X_test, y_train, y_test = train_test_split(X, y, test_size=0.2, random_state=42)\n",
        "print(X_train.shape, X_test.shape)"
      ],
      "metadata": {
        "id": "4NbUCZYxYk7f"
      },
      "execution_count": null,
      "outputs": []
    },
    {
      "cell_type": "code",
      "source": [
        "rf_pred = RandomForestRegressor()\n",
        "rf_pred.fit(X_train,y_train)\n",
        "rf_pred.score(X_test,y_test)"
      ],
      "metadata": {
        "id": "oE-hhFAmZL5n"
      },
      "execution_count": null,
      "outputs": []
    },
    {
      "cell_type": "code",
      "source": [
        "xgb_pred = XGBRegressor()\n",
        "xgb_pred.fit(X_train,y_train)\n",
        "xgb_pred.score(X_test,y_test)"
      ],
      "metadata": {
        "id": "srf-0cFIQ7uL"
      },
      "execution_count": null,
      "outputs": []
    },
    {
      "cell_type": "code",
      "source": [
        "dt_pred = DecisionTreeRegressor()\n",
        "dt_pred.fit(X_train,y_train)\n",
        "dt_pred.score(X_test,y_test)"
      ],
      "metadata": {
        "id": "TtS2ioR2Q7-9"
      },
      "execution_count": null,
      "outputs": []
    },
    {
      "cell_type": "code",
      "source": [
        "import pickle\n",
        "\n",
        "with open('random_forest_model.pkl', 'wb') as file:\n",
        "    pickle.dump(rf_pred, file)\n",
        "\n",
        "print(\"Модель успішно збережено як 'random_forest_model.pkl'!\")"
      ],
      "metadata": {
        "id": "wbDN8T4ja8Jp"
      },
      "execution_count": null,
      "outputs": []
    },
    {
      "cell_type": "code",
      "source": [
        "with open('random_forest_model.pkl', 'rb') as file:\n",
        "    loaded_model = pickle.load(file)\n",
        "\n",
        "print(\"Оцінка завантаженої моделі на тестових даних:\", loaded_model.score(X_test, y_test))"
      ],
      "metadata": {
        "id": "8ACZ5WmYc9_k"
      },
      "execution_count": null,
      "outputs": []
    },
    {
      "cell_type": "code",
      "source": [
        "with open('xgb_regressor_model.pkl', 'wb') as file:\n",
        "    pickle.dump(xgb_pred, file)\n",
        "\n",
        "print(\"Модель успішно збережено як 'xgb_regressor_model.pkl'!\")"
      ],
      "metadata": {
        "id": "dFjK-lJjSJzh"
      },
      "execution_count": null,
      "outputs": []
    },
    {
      "cell_type": "code",
      "source": [
        "with open('xgb_regressor_model.pkl', 'rb') as file:\n",
        "    loaded_model = pickle.load(file)\n",
        "\n",
        "print(\"Оцінка завантаженої моделі на тестових даних:\", loaded_model.score(X_test, y_test))"
      ],
      "metadata": {
        "id": "G4f4ZYMWSe_E"
      },
      "execution_count": null,
      "outputs": []
    },
    {
      "cell_type": "code",
      "source": [
        "with open('decision_tree_model.pkl', 'wb') as file:\n",
        "    pickle.dump(dt_pred, file)\n",
        "\n",
        "print(\"Модель успішно збережено як 'decision_tree_model.pkl'!\")"
      ],
      "metadata": {
        "id": "hwcbJMQZScxT"
      },
      "execution_count": null,
      "outputs": []
    },
    {
      "cell_type": "code",
      "source": [
        "with open('decision_tree_model.pkl', 'rb') as file:\n",
        "    loaded_model = pickle.load(file)\n",
        "\n",
        "print(\"Оцінка завантаженої моделі на тестових даних:\", loaded_model.score(X_test, y_test))"
      ],
      "metadata": {
        "id": "BuxBPoKdS4co"
      },
      "execution_count": null,
      "outputs": []
    }
  ]
}